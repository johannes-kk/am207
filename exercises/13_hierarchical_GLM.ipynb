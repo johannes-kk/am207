{
  "nbformat": 4,
  "nbformat_minor": 0,
  "metadata": {
    "colab": {
      "name": "Copy of 13-hierarchical-GLM.ipynb",
      "provenance": [],
      "collapsed_sections": [],
      "include_colab_link": true
    },
    "kernelspec": {
      "name": "python3",
      "display_name": "Python 3"
    }
  },
  "cells": [
    {
      "cell_type": "markdown",
      "metadata": {
        "id": "view-in-github",
        "colab_type": "text"
      },
      "source": [
        "<a href=\"https://colab.research.google.com/github/johannes-kk/am207/blob/master/exercises/13_hierarchical_GLM.ipynb\" target=\"_parent\"><img src=\"https://colab.research.google.com/assets/colab-badge.svg\" alt=\"Open In Colab\"/></a>"
      ]
    },
    {
      "cell_type": "markdown",
      "metadata": {
        "id": "GWdYQ3mjNoXS"
      },
      "source": [
        "# DAY 13: Interpreting and Evaluating Hierarchical General Linear Models\n",
        "\n",
        "\n",
        "### AM207: Advanced Scientific Computing\n",
        "\n",
        "#### Instructor: Weiwei Pan\n",
        "\n",
        "#### Due: October 15th, 11:59pm EST"
      ]
    },
    {
      "cell_type": "markdown",
      "metadata": {
        "id": "x27kWg2dNo7s"
      },
      "source": [
        "**Names of Group Members**: Jason Lee, Mingyue Wei, Yichen Geng, Yingsi Jian, Kofi Kwapong, Ryan Kim, Johannas Kolberg\n"
      ]
    },
    {
      "cell_type": "markdown",
      "metadata": {
        "id": "ATiLknorOb-l"
      },
      "source": [
        "## Learning Goals:\n",
        "\n",
        "1. Practice using `pymc3` for model building and inference\n",
        "2. Practice performing model selection using information criteria\n",
        "2. Explore the subleties of model interpretation using model selection (what conclusions can we safely draw from our fitted models?)\n",
        "\n",
        "\n",
        "### Load necessary libraries"
      ]
    },
    {
      "cell_type": "code",
      "metadata": {
        "id": "2aG7tFRPh2v6"
      },
      "source": [
        "### Import basic libraries\n",
        "import numpy as np\n",
        "import pandas as pd\n",
        "import sklearn as sk\n",
        "import pymc3 as pm\n",
        "import matplotlib.pyplot as plt\n",
        "%matplotlib inline"
      ],
      "execution_count": null,
      "outputs": []
    },
    {
      "cell_type": "markdown",
      "metadata": {
        "id": "ko5iLc56Py_c"
      },
      "source": [
        "## Problem Description: A Study of Census Data\n",
        "\n",
        "In this problem, you are given the data for the 1994 U.S. Census. The data has been processed so that only a subset of the features are present (for full dataset as well as the description see the [UCI Machine Learning Repository](http://archive.ics.uci.edu/ml/datasets/Census+Income)). \n",
        "\n",
        "You will be investigate the effect of the marital status on a person's yearly income in the dataset. In particular, we want to know how a person's marital status affect the likelihood of their yearly salary being above or below \\$50k. \n",
        "\n",
        "This analysis is a direct replica of the one in Example 10.1.3 in \"Statistical Rethinking\" (the excerpt of which is included in reading for this week). Example 10.1.3 illustrates a study of the effect of an applicant's gender on graduate school admissions to six U.C. Berkeley departments through a comparison of four models. \n",
        "\n",
        "The data you've been given has been aggregate into seven different categories. The categories represent: \n",
        "\n",
        "- Category 1: 4 year college degree\n",
        "- Category 2: Some-college or two year academic college degree\n",
        "- Category 3: Professional or vocational school degree\n",
        "- Category 4: High school degree\n",
        "- Category 5: Did not complete high school\n",
        "- Category 6: Masters \n",
        "- Category 7: Doctorate\n",
        "\n",
        "\n",
        "For each category, we've only kept track of a count of the number of maried and unmarried individuals who make above (and resp. below) \\\\$50k and the total number of people in the category. \n",
        "\n",
        "\n",
        "### Part I: Analysis of the Effect of Marital Status\n",
        "\n",
        "You will build two models to predict an individual's yearly income (1 being above \\\\$50k and 0 being below), one of these models should include the effect of marital status while the other should not.\n",
        "\n",
        "**Model 1 (Includes Marital Information):** Let $Y_n$ be the number of individuals in the $n$-th observation that earns above \\\\$50k and let $M_n$ be a binary indicator of the marital status of the $n$-th observation (1 indicates \"married\" and 0 otherwise).\n",
        "\n",
        "\\begin{aligned}\n",
        "\\beta &\\sim \\mathcal{N}(0, 10)\\\\\n",
        "\\alpha &\\sim \\mathcal{N}(0, 10)\\\\\n",
        "\\theta_n &= \\text{sigm}(\\alpha + \\beta M_n)\\\\\n",
        "Y_n &\\sim Bin(T_n, \\theta_n)\n",
        "\\end{aligned}\n",
        "\n",
        "**Model 2 (Excludes Marital Information):** Let $Y_n$ be the number of individuals in the $n$-th observation that earns above \\\\$50k.\n",
        "\n",
        "\\begin{aligned}\n",
        "\\alpha &\\sim \\mathcal{N}(0, 10)\\\\\n",
        "\\theta_n &= \\text{sigm}(\\alpha)\\\\\n",
        "Y_n &\\sim Bin(T_n, \\theta_n)\n",
        "\\end{aligned}"
      ]
    },
    {
      "cell_type": "markdown",
      "metadata": {
        "id": "aEecmjG0P_dz"
      },
      "source": [
        "**Exercise 1:** Implement Model 1 and Model 2 in `pymc3`. To implement a mathematical function $a = f(b)$ in `pymc3`, you must use `a = pymc3.Deterministic('a', [your pymc3 implementation of f])`, where $f$ is implemented using `pymc3.math` functions.\n",
        "\n",
        "  Compute the advantage or disadvantage of being married for high earning in terms of odds.\n",
        "\n",
        "  Perform a WAIC comparison for the two models -- use `pymc3.waic`. \n",
        "  \n",
        "  Based on the above, make a hypothesis about the effect of an individual's marital status on their income. "
      ]
    },
    {
      "cell_type": "code",
      "metadata": {
        "id": "uOttUX0_P4gO",
        "outputId": "f1de6293-109d-439c-b081-93ac8a8690e6",
        "colab": {
          "base_uri": "https://localhost:8080/",
          "height": 481
        }
      },
      "source": [
        "df = pd.read_csv('https://raw.githubusercontent.com/onefishy/am207/master/Labs/datasets/census_data.csv')\n",
        "df.head(n=14)"
      ],
      "execution_count": null,
      "outputs": [
        {
          "output_type": "execute_result",
          "data": {
            "text/html": [
              "<div>\n",
              "<style scoped>\n",
              "    .dataframe tbody tr th:only-of-type {\n",
              "        vertical-align: middle;\n",
              "    }\n",
              "\n",
              "    .dataframe tbody tr th {\n",
              "        vertical-align: top;\n",
              "    }\n",
              "\n",
              "    .dataframe thead th {\n",
              "        text-align: right;\n",
              "    }\n",
              "</style>\n",
              "<table border=\"1\" class=\"dataframe\">\n",
              "  <thead>\n",
              "    <tr style=\"text-align: right;\">\n",
              "      <th></th>\n",
              "      <th>category</th>\n",
              "      <th>married</th>\n",
              "      <th>total</th>\n",
              "      <th>&lt;=50</th>\n",
              "      <th>&gt;50</th>\n",
              "    </tr>\n",
              "  </thead>\n",
              "  <tbody>\n",
              "    <tr>\n",
              "      <th>0</th>\n",
              "      <td>1</td>\n",
              "      <td>0</td>\n",
              "      <td>1619</td>\n",
              "      <td>1280</td>\n",
              "      <td>339</td>\n",
              "    </tr>\n",
              "    <tr>\n",
              "      <th>1</th>\n",
              "      <td>1</td>\n",
              "      <td>1</td>\n",
              "      <td>3736</td>\n",
              "      <td>1854</td>\n",
              "      <td>1882</td>\n",
              "    </tr>\n",
              "    <tr>\n",
              "      <th>2</th>\n",
              "      <td>2</td>\n",
              "      <td>0</td>\n",
              "      <td>3227</td>\n",
              "      <td>2974</td>\n",
              "      <td>253</td>\n",
              "    </tr>\n",
              "    <tr>\n",
              "      <th>3</th>\n",
              "      <td>2</td>\n",
              "      <td>1</td>\n",
              "      <td>5131</td>\n",
              "      <td>3732</td>\n",
              "      <td>1399</td>\n",
              "    </tr>\n",
              "    <tr>\n",
              "      <th>4</th>\n",
              "      <td>3</td>\n",
              "      <td>0</td>\n",
              "      <td>592</td>\n",
              "      <td>483</td>\n",
              "      <td>109</td>\n",
              "    </tr>\n",
              "    <tr>\n",
              "      <th>5</th>\n",
              "      <td>3</td>\n",
              "      <td>1</td>\n",
              "      <td>1366</td>\n",
              "      <td>691</td>\n",
              "      <td>675</td>\n",
              "    </tr>\n",
              "    <tr>\n",
              "      <th>6</th>\n",
              "      <td>4</td>\n",
              "      <td>0</td>\n",
              "      <td>3390</td>\n",
              "      <td>3164</td>\n",
              "      <td>226</td>\n",
              "    </tr>\n",
              "    <tr>\n",
              "      <th>7</th>\n",
              "      <td>4</td>\n",
              "      <td>1</td>\n",
              "      <td>7111</td>\n",
              "      <td>5662</td>\n",
              "      <td>1449</td>\n",
              "    </tr>\n",
              "    <tr>\n",
              "      <th>8</th>\n",
              "      <td>5</td>\n",
              "      <td>0</td>\n",
              "      <td>1321</td>\n",
              "      <td>1298</td>\n",
              "      <td>23</td>\n",
              "    </tr>\n",
              "    <tr>\n",
              "      <th>9</th>\n",
              "      <td>5</td>\n",
              "      <td>1</td>\n",
              "      <td>2932</td>\n",
              "      <td>2711</td>\n",
              "      <td>221</td>\n",
              "    </tr>\n",
              "    <tr>\n",
              "      <th>10</th>\n",
              "      <td>6</td>\n",
              "      <td>0</td>\n",
              "      <td>536</td>\n",
              "      <td>357</td>\n",
              "      <td>179</td>\n",
              "    </tr>\n",
              "    <tr>\n",
              "      <th>11</th>\n",
              "      <td>6</td>\n",
              "      <td>1</td>\n",
              "      <td>1187</td>\n",
              "      <td>407</td>\n",
              "      <td>780</td>\n",
              "    </tr>\n",
              "    <tr>\n",
              "      <th>12</th>\n",
              "      <td>7</td>\n",
              "      <td>0</td>\n",
              "      <td>86</td>\n",
              "      <td>36</td>\n",
              "      <td>50</td>\n",
              "    </tr>\n",
              "    <tr>\n",
              "      <th>13</th>\n",
              "      <td>7</td>\n",
              "      <td>1</td>\n",
              "      <td>327</td>\n",
              "      <td>71</td>\n",
              "      <td>256</td>\n",
              "    </tr>\n",
              "  </tbody>\n",
              "</table>\n",
              "</div>"
            ],
            "text/plain": [
              "    category  married  total  <=50   >50\n",
              "0          1        0   1619  1280   339\n",
              "1          1        1   3736  1854  1882\n",
              "2          2        0   3227  2974   253\n",
              "3          2        1   5131  3732  1399\n",
              "4          3        0    592   483   109\n",
              "5          3        1   1366   691   675\n",
              "6          4        0   3390  3164   226\n",
              "7          4        1   7111  5662  1449\n",
              "8          5        0   1321  1298    23\n",
              "9          5        1   2932  2711   221\n",
              "10         6        0    536   357   179\n",
              "11         6        1   1187   407   780\n",
              "12         7        0     86    36    50\n",
              "13         7        1    327    71   256"
            ]
          },
          "metadata": {
            "tags": []
          },
          "execution_count": 2
        }
      ]
    },
    {
      "cell_type": "code",
      "metadata": {
        "id": "ff8iayNsQpLx",
        "outputId": "78b55a0b-8225-4c35-fdcd-453f686a89b3",
        "colab": {
          "base_uri": "https://localhost:8080/",
          "height": 34
        }
      },
      "source": [
        "df.shape"
      ],
      "execution_count": null,
      "outputs": [
        {
          "output_type": "execute_result",
          "data": {
            "text/plain": [
              "(14, 5)"
            ]
          },
          "metadata": {
            "tags": []
          },
          "execution_count": 3
        }
      ]
    },
    {
      "cell_type": "code",
      "metadata": {
        "id": "FA1ceQOJQsZv",
        "outputId": "635a1989-36b4-4409-c6d3-ab8e28ec52b7",
        "colab": {
          "base_uri": "https://localhost:8080/",
          "height": 139
        }
      },
      "source": [
        "#total number of individuals in n-th observation\n",
        "n = df['total'].values\n",
        "#number of married individuals in the n-th observation\n",
        "x = df['married'].values\n",
        "#number of individuals with income above 50k in the n-th observation\n",
        "y_obs = df['>50'].values\n",
        "#category of the n-th observation\n",
        "category = df['category'].values - 1\n",
        "\n",
        "# model 1\n",
        "#define model with marital status in pymc3\n",
        "with pm.Model() as marital_model:\n",
        "    #define priors\n",
        "    alpha = pm.Normal('alpha', mu=0, tau=1./10)\n",
        "    beta = pm.Normal('beta', mu=0, tau=1./10)\n",
        "    #define linear model, using marital status as a covariate\n",
        "    mu = alpha + pm.math.dot(x, beta) \n",
        "    #transform linear model into a probability\n",
        "    theta = pm.Deterministic('theta', pm.math.sigmoid(mu))\n",
        "\n",
        "    #define binomial likelihood\n",
        "    y = pm.Binomial('y_obs', n=n, p=theta, observed=y_obs)\n",
        "\n",
        "    #sample from the posterior using 3 HMC (No-U-Turn HMC) chains, 2000 samples per chain, \n",
        "    #using 6000 samples to tune the sampler, discarding the tuning samples\n",
        "    trace_marital = pm.sample(4000, chains=3, tune=8000, discard_tuned_samples=True)"
      ],
      "execution_count": null,
      "outputs": [
        {
          "output_type": "stream",
          "text": [
            "Auto-assigning NUTS sampler...\n",
            "Initializing NUTS using jitter+adapt_diag...\n",
            "Sequential sampling (3 chains in 1 job)\n",
            "NUTS: [beta, alpha]\n",
            "100%|██████████| 12000/12000 [00:14<00:00, 845.20it/s]\n",
            "100%|██████████| 12000/12000 [00:12<00:00, 938.85it/s]\n",
            "100%|██████████| 12000/12000 [00:13<00:00, 897.22it/s]\n"
          ],
          "name": "stderr"
        }
      ]
    },
    {
      "cell_type": "code",
      "metadata": {
        "id": "sUZCwL8yQzjv"
      },
      "source": [
        "# pm.traceplot(trace_marital)\n",
        "# plt.show()"
      ],
      "execution_count": null,
      "outputs": []
    },
    {
      "cell_type": "code",
      "metadata": {
        "id": "0QR41LAuQ1bE"
      },
      "source": [
        "# pm.autocorrplot(trace_marital)\n",
        "# plt.show()"
      ],
      "execution_count": null,
      "outputs": []
    },
    {
      "cell_type": "code",
      "metadata": {
        "id": "1GnQPPrpQ4PH"
      },
      "source": [
        "trace_marital_thinned = trace_marital[::40]"
      ],
      "execution_count": null,
      "outputs": []
    },
    {
      "cell_type": "code",
      "metadata": {
        "id": "ji-zDeSJRKTg",
        "outputId": "07e29192-ce79-4e13-aac5-b46af4f86af6",
        "colab": {
          "base_uri": "https://localhost:8080/",
          "height": 35
        }
      },
      "source": [
        "print('marital advantage:', np.exp(trace_marital_thinned['beta'].mean(axis=0)))"
      ],
      "execution_count": null,
      "outputs": [
        {
          "output_type": "stream",
          "text": [
            "marital advantage: 3.585895363712837\n"
          ],
          "name": "stdout"
        }
      ]
    },
    {
      "cell_type": "code",
      "metadata": {
        "id": "bxw-Fi9jRJWa",
        "outputId": "7742eed3-b24f-4c72-aa9d-21326bfed415",
        "colab": {
          "base_uri": "https://localhost:8080/",
          "height": 121
        }
      },
      "source": [
        "#define model without marital status in pymc3\n",
        "with pm.Model() as nonmarital_model:\n",
        "    #define priors\n",
        "    alpha = pm.Normal('alpha', mu=0, tau=1./10)\n",
        "    #transform linear model into a probability\n",
        "    theta = pm.Deterministic('theta', pm.math.sigmoid(alpha))\n",
        "\n",
        "    #define binomial likelihood\n",
        "    y = pm.Binomial('y_obs', n=n, p=theta, observed=y_obs)\n",
        "\n",
        "    trace_nonmarital = pm.sample(4000, tune=2000)"
      ],
      "execution_count": null,
      "outputs": [
        {
          "output_type": "stream",
          "text": [
            "Auto-assigning NUTS sampler...\n",
            "Initializing NUTS using jitter+adapt_diag...\n",
            "Sequential sampling (2 chains in 1 job)\n",
            "NUTS: [alpha]\n",
            "100%|██████████| 6000/6000 [00:03<00:00, 1751.11it/s]\n",
            "100%|██████████| 6000/6000 [00:03<00:00, 1924.87it/s]\n"
          ],
          "name": "stderr"
        }
      ]
    },
    {
      "cell_type": "code",
      "metadata": {
        "id": "QNcj0qJ1RhUj"
      },
      "source": [
        "trace_nonmarital_thinned = trace_nonmarital[::20]"
      ],
      "execution_count": null,
      "outputs": []
    },
    {
      "cell_type": "code",
      "metadata": {
        "id": "CmVsP0LsRO-f"
      },
      "source": [
        "# pm.traceplot(trace_nonmarital)\n",
        "# plt.show()"
      ],
      "execution_count": null,
      "outputs": []
    },
    {
      "cell_type": "code",
      "metadata": {
        "id": "NvAetiFHRP_G"
      },
      "source": [
        "# pm.autocorrplot(trace_nonmarital)\n",
        "# plt.show()"
      ],
      "execution_count": null,
      "outputs": []
    },
    {
      "cell_type": "code",
      "metadata": {
        "id": "ivI-YNygRR5Y",
        "outputId": "692dd188-9310-4a68-b1a0-557456dd3587",
        "colab": {
          "base_uri": "https://localhost:8080/",
          "height": 370
        }
      },
      "source": [
        "marital_model.name = 'marital model'\n",
        "nonmarital_model.name = 'nonmarital model'\n",
        "df_comp_WAIC = pm.compare({marital_model: trace_marital_thinned, nonmarital_model: trace_nonmarital_thinned})\n",
        "df_comp_WAIC"
      ],
      "execution_count": null,
      "outputs": [
        {
          "output_type": "stream",
          "text": [
            "/usr/local/lib/python3.6/dist-packages/pymc3/stats.py:558: FutureWarning: arrays to stack must be passed as a \"sequence\" type such as list or tuple. Support for non-sequence iterables such as generators is deprecated as of NumPy 1.16 and will raise an error in the future.\n",
            "  ics.append((n, ic_func(t, m, pointwise=True)))\n",
            "/usr/local/lib/python3.6/dist-packages/pymc3/stats.py:219: UserWarning: For one or more samples the posterior variance of the\n",
            "        log predictive densities exceeds 0.4. This could be indication of\n",
            "        WAIC starting to fail see http://arxiv.org/abs/1507.04544 for details\n",
            "        \n",
            "  \"\"\")\n",
            "/usr/local/lib/python3.6/dist-packages/pymc3/stats.py:558: FutureWarning: arrays to stack must be passed as a \"sequence\" type such as list or tuple. Support for non-sequence iterables such as generators is deprecated as of NumPy 1.16 and will raise an error in the future.\n",
            "  ics.append((n, ic_func(t, m, pointwise=True)))\n",
            "/usr/local/lib/python3.6/dist-packages/pymc3/stats.py:219: UserWarning: For one or more samples the posterior variance of the\n",
            "        log predictive densities exceeds 0.4. This could be indication of\n",
            "        WAIC starting to fail see http://arxiv.org/abs/1507.04544 for details\n",
            "        \n",
            "  \"\"\")\n"
          ],
          "name": "stderr"
        },
        {
          "output_type": "execute_result",
          "data": {
            "text/html": [
              "<div>\n",
              "<style scoped>\n",
              "    .dataframe tbody tr th:only-of-type {\n",
              "        vertical-align: middle;\n",
              "    }\n",
              "\n",
              "    .dataframe tbody tr th {\n",
              "        vertical-align: top;\n",
              "    }\n",
              "\n",
              "    .dataframe thead th {\n",
              "        text-align: right;\n",
              "    }\n",
              "</style>\n",
              "<table border=\"1\" class=\"dataframe\">\n",
              "  <thead>\n",
              "    <tr style=\"text-align: right;\">\n",
              "      <th></th>\n",
              "      <th>WAIC</th>\n",
              "      <th>pWAIC</th>\n",
              "      <th>dWAIC</th>\n",
              "      <th>weight</th>\n",
              "      <th>SE</th>\n",
              "      <th>dSE</th>\n",
              "      <th>var_warn</th>\n",
              "    </tr>\n",
              "  </thead>\n",
              "  <tbody>\n",
              "    <tr>\n",
              "      <th>marital model</th>\n",
              "      <td>4606.52</td>\n",
              "      <td>443.83</td>\n",
              "      <td>0</td>\n",
              "      <td>0.52</td>\n",
              "      <td>1171.7</td>\n",
              "      <td>0</td>\n",
              "      <td>1</td>\n",
              "    </tr>\n",
              "    <tr>\n",
              "      <th>nonmarital model</th>\n",
              "      <td>6250.36</td>\n",
              "      <td>416.06</td>\n",
              "      <td>1643.84</td>\n",
              "      <td>0.48</td>\n",
              "      <td>1607.78</td>\n",
              "      <td>1390.65</td>\n",
              "      <td>1</td>\n",
              "    </tr>\n",
              "  </tbody>\n",
              "</table>\n",
              "</div>"
            ],
            "text/plain": [
              "                     WAIC   pWAIC    dWAIC weight       SE      dSE var_warn\n",
              "marital model     4606.52  443.83        0   0.52   1171.7        0        1\n",
              "nonmarital model  6250.36  416.06  1643.84   0.48  1607.78  1390.65        1"
            ]
          },
          "metadata": {
            "tags": []
          },
          "execution_count": 11
        }
      ]
    },
    {
      "cell_type": "markdown",
      "metadata": {
        "id": "nPpekbwVbydr"
      },
      "source": [
        "  Based on the above, make a hypothesis about the effect of an individual's marital status on their income. \n",
        "\n",
        "The marital model is more complex but the gain in predictive performance outweighs the penalisation for this additional complexity, as evidenced by the lower AIC. Therefore we can hypothesize that marital status has a strong effect on the subject’s income."
      ]
    },
    {
      "cell_type": "markdown",
      "metadata": {
        "id": "x73NaeViQCXf"
      },
      "source": [
        "**Exercise 2:**  Make a plot like Figure 10.5 to perform a posterior predictive check (see how well your models fits the data). Specifically, for each category: \n",
        "  - plot the observed percentage of married individuals making over \\$50k and unmarried individuals making over \\$50k.\n",
        "  - on the same plot, plot the posterior mean and posterior 95\\% predictive interval (in percentages) of married individuals making over \\$50k and unmarried individuals making over \\$50k.\n",
        "  \n",
        "  Based on your posterior predictive check, are you more or less confident in the validity of your hypothesis regarding the relationship between marital status and income?"
      ]
    },
    {
      "cell_type": "markdown",
      "metadata": {
        "id": "6XNPTg2H2OY4"
      },
      "source": [
        "Broadly, we hypothesized that martial status certainly may drive income level; however, once we consider the education level of individuals, we observe that the share of individuals with incomes greater than a particular threshold is also related with those individuals’ education level. Therefore, we may adjust our hypothesis to say that income relies upon education level in addition to marital status. If given more information, we may be able to parse the collinearity between marital status and education level, however, that may be outside the scope of the question."
      ]
    },
    {
      "cell_type": "code",
      "metadata": {
        "id": "jb9_gblLQDqI",
        "outputId": "207deec7-9270-4adb-c33e-af8c3044d442",
        "colab": {
          "base_uri": "https://localhost:8080/",
          "height": 265
        }
      },
      "source": [
        "theta_means = trace_marital_thinned['theta'].mean(axis=0)\n",
        "theta_ub = np.percentile(trace_marital_thinned['theta'], 97.5, axis=0)\n",
        "theta_lb = np.percentile(trace_marital_thinned['theta'], 2.5, axis=0)\n",
        "\n",
        "plt.scatter(category[x==1], y_obs[x==1] * 1. / n[x==1], color='blue', label='observed married')\n",
        "plt.scatter(category[x==0], y_obs[x==0] * 1. / n[x==0], color='red', label='observed unmarried')\n",
        "plt.scatter(category[x==1], theta_means[x==1] * 1., color='blue', marker='+', label='posterior mean married')\n",
        "plt.scatter(category[x==0], theta_means[x==0] * 1., color='red', marker='+', label='posterior mean unmarried')\n",
        "plt.legend(loc='upper left')\n",
        "plt.show()"
      ],
      "execution_count": null,
      "outputs": [
        {
          "output_type": "display_data",
          "data": {
            "image/png": "[encoded data removed]",
            "text/plain": [
              "<Figure size 432x288 with 1 Axes>"
            ]
          },
          "metadata": {
            "tags": [],
            "needs_background": "light"
          }
        }
      ]
    },
    {
      "cell_type": "markdown",
      "metadata": {
        "id": "zXKMvCMIR2ns"
      },
      "source": [
        "### Part II: Analysis of the Effect of Marital Status Given Education\n",
        "\n",
        "You will build two models to predict an individual's yearly income taking into account an individual's education. You can do this by modeling the effect of marital status with a coefficient $\\beta$ and modeling the effect of each category $k$ of education with a coefficient $\\alpha_k$, where $k=1, \\ldots, 7$.\n",
        "\n",
        "**Model 1 (Includes Marital Information):** Let $Y_n$ be the number of individuals in the $n$-th observation that earns above \\\\$50k, let $M_n$ be a binary indicator of the marital status of the $n$-th observation (1 indicates \"married\" and 0 otherwise), and let $Z_n$ be the education category for the $n$-th observation.\n",
        "\n",
        "\\begin{aligned}\n",
        "\\beta &\\sim \\mathcal{N}(0, 10)\\\\\n",
        "\\alpha_{Z_n} &\\sim \\mathcal{N}(0, 10)\\\\\n",
        "\\theta_n &= \\text{sigm}(\\alpha_{Z_n} + \\beta M_n)\\\\\n",
        "Y_n &\\sim Bin(T_n, \\theta_n)\n",
        "\\end{aligned}\n",
        "\n",
        "**Model 2 (Excludes Marital Information):** Let $Y_n$ be the number of individuals in the $n$-th observation that earns above \\\\$50k and let $Z_n$ be the education category for the $n$-th observation.\n",
        "\n",
        "\\begin{aligned}\n",
        "\\alpha_{Z_n} &\\sim \\mathcal{N}(0, 10)\\\\\n",
        "\\theta_n &= \\text{sigm}(\\alpha_{Z_n})\\\\\n",
        "Y_n &\\sim Bin(T_n, \\theta_n)\n",
        "\\end{aligned}"
      ]
    },
    {
      "cell_type": "markdown",
      "metadata": {
        "id": "TbveMx4LSEqz"
      },
      "source": [
        "**Exercise 3:** Implement Model 1 and Model 2 in `pymc3`. \n",
        "  \n",
        "  Compute the advantage for each category of education for high earning in terms of odds. Do these odds match your intuition about how education level affects earning?\n",
        "\n",
        "  Compute the advantage or disadvantage of being married for high earning in terms of odds.\n",
        "  \n",
        "  Perform a WAIC comparison for the two models -- use `pymc3.waic`. \n",
        "  \n",
        "  Based on the above, are you more or less confident in the validity of your hypothesis regarding the relationship between marital status and income?"
      ]
    },
    {
      "cell_type": "code",
      "metadata": {
        "id": "OsNYM1XqRziI",
        "outputId": "603ae412-ec63-427f-d968-a3cd7d97e343",
        "colab": {
          "base_uri": "https://localhost:8080/",
          "height": 139
        }
      },
      "source": [
        "# model 1\n",
        "#total number of individuals in n-th observation\n",
        "n = df['total'].values\n",
        "#number of married individuals in the n-th observation\n",
        "x = df['married'].values\n",
        "#number of individuals with income above 50k in the n-th observation\n",
        "y_obs = df['>50'].values\n",
        "#category of the n-th observation\n",
        "category = df['category'].values - 1\n",
        "\n",
        "# model 1\n",
        "#define model with marital status in pymc3\n",
        "with pm.Model() as marital_model:\n",
        "    #define priors\n",
        "    alpha = pm.Normal('alpha', mu=0, tau=1./10, shape=7)\n",
        "    beta = pm.Normal('beta', mu=0, tau=1./10)\n",
        "    #define linear model, using marital status as a covariate\n",
        "    mu = alpha[category] + pm.math.dot(x, beta) \n",
        "\n",
        "    #transform linear model into a probability\n",
        "    theta = pm.Deterministic('theta', pm.math.sigmoid(mu))\n",
        "\n",
        "    #define binomial likelihood\n",
        "    y = pm.Binomial('y_obs', n=n, p=theta, observed=y_obs)\n",
        "\n",
        "    #sample from the posterior using 3 HMC (No-U-Turn HMC) chains, 2000 samples per chain, \n",
        "    #using 6000 samples to tune the sampler, discarding the tuning samples\n",
        "    trace_marital = pm.sample(4000, chains=3, tune=8000, discard_tuned_samples=True)"
      ],
      "execution_count": null,
      "outputs": [
        {
          "output_type": "stream",
          "text": [
            "Auto-assigning NUTS sampler...\n",
            "Initializing NUTS using jitter+adapt_diag...\n",
            "Sequential sampling (3 chains in 1 job)\n",
            "NUTS: [beta, alpha]\n",
            "100%|██████████| 12000/12000 [00:17<00:00, 683.92it/s]\n",
            "100%|██████████| 12000/12000 [00:17<00:00, 681.88it/s]\n",
            "100%|██████████| 12000/12000 [00:17<00:00, 693.20it/s]\n"
          ],
          "name": "stderr"
        }
      ]
    },
    {
      "cell_type": "code",
      "metadata": {
        "id": "iAfQ2XHBjMl4",
        "outputId": "bb9beca4-9212-460c-cf90-69869cacfeff",
        "colab": {
          "base_uri": "https://localhost:8080/",
          "height": 34
        }
      },
      "source": [
        "trace_marital_thinned = trace_marital[::40]\n",
        "print('marital advantage:', np.exp(trace_marital_thinned['beta'].mean(axis=0)))"
      ],
      "execution_count": null,
      "outputs": [
        {
          "output_type": "stream",
          "text": [
            "marital advantage: 3.948255479741487\n"
          ],
          "name": "stdout"
        }
      ]
    },
    {
      "cell_type": "code",
      "metadata": {
        "id": "2tBpca2Ji-dS",
        "outputId": "67f2e943-59e8-4f48-f70b-10f61e63c09c",
        "colab": {
          "base_uri": "https://localhost:8080/",
          "height": 139
        }
      },
      "source": [
        "# model 2\n",
        "#define model with marital status in pymc3\n",
        "with pm.Model() as nonmarital_model:\n",
        "    #define priors\n",
        "    alpha = pm.Normal('alpha', mu=0, tau=1./10, shape=7)\n",
        "    #define linear model, using marital status as a covariate\n",
        "    mu = alpha[category]\n",
        "\n",
        "    #transform linear model into a probability\n",
        "    theta = pm.Deterministic('theta', pm.math.sigmoid(mu))\n",
        "\n",
        "    #define binomial likelihood\n",
        "    y = pm.Binomial('y_obs', n=n, p=theta, observed=y_obs)\n",
        "\n",
        "    #sample from the posterior using 3 HMC (No-U-Turn HMC) chains, 2000 samples per chain, \n",
        "    #using 6000 samples to tune the sampler, discarding the tuning samples\n",
        "    trace_nonmarital = pm.sample(4000, chains=3, tune=8000, discard_tuned_samples=True)\n"
      ],
      "execution_count": null,
      "outputs": [
        {
          "output_type": "stream",
          "text": [
            "Auto-assigning NUTS sampler...\n",
            "Initializing NUTS using jitter+adapt_diag...\n",
            "Sequential sampling (3 chains in 1 job)\n",
            "NUTS: [alpha]\n",
            "100%|██████████| 12000/12000 [00:11<00:00, 1031.48it/s]\n",
            "100%|██████████| 12000/12000 [00:10<00:00, 1175.45it/s]\n",
            "100%|██████████| 12000/12000 [00:09<00:00, 1260.42it/s]\n"
          ],
          "name": "stderr"
        }
      ]
    },
    {
      "cell_type": "code",
      "metadata": {
        "id": "Zw7L82lnpQRa"
      },
      "source": [
        "trace_nonmarital_thinned = trace_nonmarital[::40]\n"
      ],
      "execution_count": null,
      "outputs": []
    },
    {
      "cell_type": "code",
      "metadata": {
        "id": "h1gr90gNfxso",
        "outputId": "be66a261-e9e4-444c-d217-3a19ac873dd8",
        "colab": {
          "base_uri": "https://localhost:8080/",
          "height": 375
        }
      },
      "source": [
        "marital_model.name = 'marital model'\n",
        "nonmarital_model.name = 'nonmarital model'\n",
        "df_comp_WAIC = pm.compare({marital_model: trace_marital_thinned, nonmarital_model: trace_nonmarital_thinned})\n",
        "df_comp_WAIC"
      ],
      "execution_count": null,
      "outputs": [
        {
          "output_type": "stream",
          "text": [
            "/usr/local/lib/python3.6/dist-packages/pymc3/stats.py:558: FutureWarning: arrays to stack must be passed as a \"sequence\" type such as list or tuple. Support for non-sequence iterables such as generators is deprecated as of NumPy 1.16 and will raise an error in the future.\n",
            "  ics.append((n, ic_func(t, m, pointwise=True)))\n",
            "/usr/local/lib/python3.6/dist-packages/pymc3/stats.py:219: UserWarning: For one or more samples the posterior variance of the\n",
            "        log predictive densities exceeds 0.4. This could be indication of\n",
            "        WAIC starting to fail see http://arxiv.org/abs/1507.04544 for details\n",
            "        \n",
            "  \"\"\")\n",
            "/usr/local/lib/python3.6/dist-packages/pymc3/stats.py:558: FutureWarning: arrays to stack must be passed as a \"sequence\" type such as list or tuple. Support for non-sequence iterables such as generators is deprecated as of NumPy 1.16 and will raise an error in the future.\n",
            "  ics.append((n, ic_func(t, m, pointwise=True)))\n",
            "/usr/local/lib/python3.6/dist-packages/pymc3/stats.py:219: UserWarning: For one or more samples the posterior variance of the\n",
            "        log predictive densities exceeds 0.4. This could be indication of\n",
            "        WAIC starting to fail see http://arxiv.org/abs/1507.04544 for details\n",
            "        \n",
            "  \"\"\")\n"
          ],
          "name": "stderr"
        },
        {
          "output_type": "execute_result",
          "data": {
            "text/html": [
              "<div>\n",
              "<style scoped>\n",
              "    .dataframe tbody tr th:only-of-type {\n",
              "        vertical-align: middle;\n",
              "    }\n",
              "\n",
              "    .dataframe tbody tr th {\n",
              "        vertical-align: top;\n",
              "    }\n",
              "\n",
              "    .dataframe thead th {\n",
              "        text-align: right;\n",
              "    }\n",
              "</style>\n",
              "<table border=\"1\" class=\"dataframe\">\n",
              "  <thead>\n",
              "    <tr style=\"text-align: right;\">\n",
              "      <th></th>\n",
              "      <th>WAIC</th>\n",
              "      <th>pWAIC</th>\n",
              "      <th>dWAIC</th>\n",
              "      <th>weight</th>\n",
              "      <th>SE</th>\n",
              "      <th>dSE</th>\n",
              "      <th>var_warn</th>\n",
              "    </tr>\n",
              "  </thead>\n",
              "  <tbody>\n",
              "    <tr>\n",
              "      <th>marital model</th>\n",
              "      <td>123.58</td>\n",
              "      <td>6.29</td>\n",
              "      <td>0</td>\n",
              "      <td>1</td>\n",
              "      <td>5.84</td>\n",
              "      <td>0</td>\n",
              "      <td>1</td>\n",
              "    </tr>\n",
              "    <tr>\n",
              "      <th>nonmarital model</th>\n",
              "      <td>2892.87</td>\n",
              "      <td>687.36</td>\n",
              "      <td>2769.29</td>\n",
              "      <td>0</td>\n",
              "      <td>611.18</td>\n",
              "      <td>608.07</td>\n",
              "      <td>1</td>\n",
              "    </tr>\n",
              "  </tbody>\n",
              "</table>\n",
              "</div>"
            ],
            "text/plain": [
              "                     WAIC   pWAIC    dWAIC weight      SE     dSE var_warn\n",
              "marital model      123.58    6.29        0      1    5.84       0        1\n",
              "nonmarital model  2892.87  687.36  2769.29      0  611.18  608.07        1"
            ]
          },
          "metadata": {
            "tags": []
          },
          "execution_count": 9
        }
      ]
    },
    {
      "cell_type": "markdown",
      "metadata": {
        "id": "2h7zgRbON_TK"
      },
      "source": [
        "\n",
        "The comparison we see above is similar to our comparison from part 1, as the marital model performs much better than the nonmarital model, shown by the much lower WAIC. So we reason that our hypothesis is supported by this updated model."
      ]
    },
    {
      "cell_type": "markdown",
      "metadata": {
        "id": "tVTjmvedSJjv"
      },
      "source": [
        "**Exercise 4:** Make a plot like Figure 10.5 to perform a posterior predictive check (see how well your models fits the data). Specifically, for each category: \n",
        "  - plot the observed percentage of married individuals making over \\$50k and unmarried individuals making over \\$50k.\n",
        "  - on the same plot, plot the posterior mean and posterior 95\\% predictive interval (in percentages) of married individuals making over \\$50k and unmarried individuals making over \\$50k.\n",
        "  \n",
        "  Based on your posterior predictive check, are you more or less confident in the validity of your hypothesis regarding the relationship between marital status and income?"
      ]
    },
    {
      "cell_type": "code",
      "metadata": {
        "id": "X6bEsz0MSLpq",
        "outputId": "d55a27de-a9c4-4135-eea6-313ef4532973",
        "colab": {
          "base_uri": "https://localhost:8080/",
          "height": 265
        }
      },
      "source": [
        "theta_means = trace_marital_thinned['theta'].mean(axis=0)\n",
        "theta_ub = np.percentile(trace_marital_thinned['theta'], 97.5, axis=0)\n",
        "theta_lb = np.percentile(trace_marital_thinned['theta'], 2.5, axis=0)\n",
        "\n",
        "plt.scatter(category[x==1], y_obs[x==1] * 1. / n[x==1], color='blue', label='observed married')\n",
        "plt.scatter(category[x==0], y_obs[x==0] * 1. / n[x==0], color='red', label='observed unmarried')\n",
        "plt.scatter(category[x==1], theta_means[x==1] * 1., color='blue', marker='+', label='posterior mean married')\n",
        "plt.scatter(category[x==0], theta_means[x==0] * 1., color='red', marker='+', label='posterior mean unmarried')\n",
        "plt.legend(loc='upper left')\n",
        "plt.show()"
      ],
      "execution_count": null,
      "outputs": [
        {
          "output_type": "display_data",
          "data": {
            "image/png": "[encoded data removed]",
            "text/plain": [
              "<Figure size 432x288 with 1 Axes>"
            ]
          },
          "metadata": {
            "tags": [],
            "needs_background": "light"
          }
        }
      ]
    },
    {
      "cell_type": "markdown",
      "metadata": {
        "id": "J0Rb2-Q-SY0z"
      },
      "source": [
        "**Exercise 5:** Based on your analysis above, what can you say about the effect of marital status on an individual's income? Point to evidence that supports what you are claiming."
      ]
    }
  ]
}