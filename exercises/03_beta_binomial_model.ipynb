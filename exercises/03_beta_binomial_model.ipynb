{
  "nbformat": 4,
  "nbformat_minor": 0,
  "metadata": {
    "anaconda-cloud": {},
    "kernelspec": {
      "display_name": "Python 3",
      "language": "python",
      "name": "python3"
    },
    "language_info": {
      "codemirror_mode": {
        "name": "ipython",
        "version": 3
      },
      "file_extension": ".py",
      "mimetype": "text/x-python",
      "name": "python",
      "nbconvert_exporter": "python",
      "pygments_lexer": "ipython3",
      "version": "3.6.8"
    },
    "colab": {
      "name": "03-beta-binomial-model.ipynb",
      "provenance": [],
      "collapsed_sections": [],
      "include_colab_link": true
    }
  },
  "cells": [
    {
      "cell_type": "markdown",
      "metadata": {
        "id": "view-in-github",
        "colab_type": "text"
      },
      "source": [
        "<a href=\"https://colab.research.google.com/github/johannes-kk/am207/blob/master/exercises/03_beta_binomial_model.ipynb\" target=\"_parent\"><img src=\"https://colab.research.google.com/assets/colab-badge.svg\" alt=\"Open In Colab\"/></a>"
      ]
    },
    {
      "cell_type": "markdown",
      "metadata": {
        "id": "Vlwh9scJ2pND",
        "colab_type": "text"
      },
      "source": [
        "# DAY 3: The Beta-Binomial Model\n",
        "\n",
        "\n",
        "### AM207: Advanced Scientific Computing\n",
        "\n",
        "#### Instructor: Weiwei Pan\n",
        "\n",
        "#### Due: September 10th, 11:59pm EST"
      ]
    },
    {
      "cell_type": "markdown",
      "metadata": {
        "id": "3WkhfBAkMN_a",
        "colab_type": "text"
      },
      "source": [
        "**Names of Group Members**:  \n",
        "David Ma david_ma@college.harvard.edu <br/>\n",
        "Elaine Cunha mcunha@g.harvard.edu <br/>\n",
        "Maggie Wang maggiewang@college.harvard.edu <br/>\n",
        "Gabriel Pestre gpestre@g.harvard.edu <br/>\n",
        "Johannes Kolberg johanneskolberg@g.harvard.edu <br/>\n",
        "Nayantara Mudur nmudur@g.harvard.edu<br/>"
      ]
    },
    {
      "cell_type": "markdown",
      "metadata": {
        "id": "rsRzRcpjMaBZ",
        "colab_type": "text"
      },
      "source": [
        "## Learning Goals:\n",
        "\n",
        "1. be able to apply Beta-Binomial models to determine fair rankings \n",
        "2. understand the effect of the prior and evidence in this model\n",
        "3. be able to interpret the prior and posterior as real-life beliefs"
      ]
    },
    {
      "cell_type": "markdown",
      "metadata": {
        "id": "8HWxh6FY2pNH",
        "colab_type": "text"
      },
      "source": [
        "### Load necessary libraries"
      ]
    },
    {
      "cell_type": "code",
      "metadata": {
        "id": "map2N7G-2pNI",
        "colab_type": "code",
        "colab": {}
      },
      "source": [
        "import numpy as np\n",
        "import pandas as pd\n",
        "import scipy as sp\n",
        "from scipy.stats import mode\n",
        "from sklearn import linear_model\n",
        "import matplotlib\n",
        "import matplotlib.pyplot as plt\n",
        "%matplotlib inline"
      ],
      "execution_count": null,
      "outputs": []
    },
    {
      "cell_type": "markdown",
      "metadata": {
        "id": "5Ta0C3pH2pNQ",
        "colab_type": "text"
      },
      "source": [
        "### We include auxiliary functions here that we will need to use later "
      ]
    },
    {
      "cell_type": "code",
      "metadata": {
        "id": "aXfC50q42pNR",
        "colab_type": "code",
        "colab": {}
      },
      "source": [
        "def movie_stats(names_df,\n",
        "                ratings_df,\n",
        "                movie_name=None,\n",
        "                movie_name_contains=None,\n",
        "                verbose=False):\n",
        "    '''--------  movie_stats\n",
        "    A function that extracts the total number of ratings and number of likes for a movie\n",
        "    Input: \n",
        "         movie_name (an optional parameter containing the exact name of the movie)\n",
        "         movie_name_contains (an optional parameter containing part of the movie name)\n",
        "    Returns: \n",
        "         total_ratings (the total number of ratings for a movie)\n",
        "         likes (the total number of likes for a movie)\n",
        "    '''\n",
        "    \n",
        "    #If given an exact movie name:\n",
        "    if movie_name is not None:        \n",
        "        #Find the index of the movie, by name, in the \"names\" dataframe\n",
        "        movie_index = names_df[names_df['movie_name'] == movie_name].index[0]\n",
        "        #Get the id for the movie in the \"names\" dataframe\n",
        "        movie_id = names_df.loc[movie_index, 'movie_id']\n",
        "        #Get all ratings for the movie, by id, in the \"ratings\" dataframe\n",
        "        ratings_for_movie = ratings_df[ratings_df['movie_id'] == movie_id]\n",
        "        #Count the total number of ratings\n",
        "        total_ratings = len(ratings_for_movie)\n",
        "        #Count the likes (the 1's)\n",
        "        likes = ratings_for_movie['rating'].sum()\n",
        "    \n",
        "    #Otherwise, if given a partial movie name:\n",
        "    elif movie_name_contains is not None:\n",
        "        #Find the index of the movie, by name, in the \"names\" dataframe\n",
        "        movie_index = names_df[names_df['movie_name'].str.contains(movie_name_contains,case=False)].index[0]\n",
        "        if verbose: print(names_df['movie_name'][movie_index])\n",
        "        #Get the id for the movie in the \"names\" dataframe\n",
        "        movie_id = names_df.loc[movie_index, 'movie_id']\n",
        "        #Get all ratings for the movie, by id, in the \"ratings\" dataframe\n",
        "        ratings_for_movie = ratings_df[ratings_df['movie_id'] == movie_id]\n",
        "        #Count the total number of ratings\n",
        "        total_ratings = len(ratings_for_movie)\n",
        "        #Count the likes (the 1's)\n",
        "        likes = ratings_for_movie['rating'].sum()\n",
        "    \n",
        "    else:\n",
        "        total_ratings = 0.\n",
        "        likes = 0.\n",
        "    \n",
        "    return float(total_ratings), likes\n",
        "\n",
        "\n",
        "def generate_list_top_movies(names_df, ratings_df, n_movies=25):\n",
        "    '''--------  generate_list_top_movies\n",
        "    A function that makes a list of movie names and their ratings info,\n",
        "    based on like-percentage only\n",
        "    Input: \n",
        "         names_df (a dataframe containing the names of the movie)\n",
        "         ratings_df (a dataframe containing the movie ratings)\n",
        "         n_movies (an optional parameter indicating the number of movies to return)\n",
        "    Returns: \n",
        "         top_movies (the top movies ranked by like-percentage)\n",
        "    '''\n",
        "\n",
        "    likability = []\n",
        "\n",
        "    #Iterate through all the movie names\n",
        "    for name in names_df['movie_name'].values:\n",
        "        #Get ratings info for movie\n",
        "        total_ratings, likes = movie_stats(names_df, ratings_df, movie_name=name)\n",
        "        #Add movie info to our list\n",
        "        likability.append((name, likes, total_ratings, likes / total_ratings))\n",
        "\n",
        "    #Sort our list of movie info by like-percentage, in descending order\n",
        "    sorted_likability = sorted(likability, key=lambda t: t[3], reverse=True)  \n",
        "    #Get the movies with top 25 like-percentage\n",
        "    top_movies = sorted_likability[:n_movies]\n",
        "\n",
        "    #Print results of ranking\n",
        "    print('Top %d Movies' % n_movies)\n",
        "    print('****************************')\n",
        "    for movie, likes, total_ratings, likable in top_movies:\n",
        "        print(movie, ':', likable, '({}/{})'.format(likes, total_ratings))\n",
        "    return top_movies\n",
        "\n",
        "\n",
        "def plot_beta_prior(a, b, color, ax):\n",
        "    '''--------  plot_beta_prior\n",
        "    A function to visualize a beta pdf on a set of axes\n",
        "    Input: \n",
        "         a (parameter controlling shape of beta prior)\n",
        "         b (parameter controlling shape of beta prior)\n",
        "         color (color of beta pdf)\n",
        "         ax (axes on which to plot pdf)\n",
        "    Returns: \n",
        "         ax (axes with plot of beta pdf)\n",
        "    '''\n",
        "    \n",
        "    #Create a beta-distributed random variable with shape a, b\n",
        "    rv = sp.stats.beta(a, b)\n",
        "    #Create values from 0 to 1\n",
        "    x = np.linspace(0, 1, 100)\n",
        "    #Plot the beta pdf for values from 0 to 1\n",
        "    ax.plot(x, rv.pdf(x), '-', lw=2, color=color, label='a=' + str(a) + ', b=' + str(b))\n",
        "    #Set title, legend etc\n",
        "    ax.set_title('Beta prior with a=' + str(a) + ', b=' + str(b))\n",
        "    ax.legend(loc='best')\n",
        "    \n",
        "    return ax\n",
        "\n",
        "\n",
        "def sample_posterior(a, b, likes, ratings, n_samples):\n",
        "    '''--------  sample_posterior\n",
        "    A function that samples points from the posterior over a movie's \n",
        "    likability, given a binomial likelihood function and beta prior\n",
        "    Input: \n",
        "         a (parameter controlling shape of beta prior)\n",
        "         b (parameter controlling shape of beta prior)\n",
        "         likes (the number of likes in likelihood)\n",
        "         ratings (total number of ratings in likelihood)\n",
        "         n_samples (number of samples to take from posterior)\n",
        "    Returns: \n",
        "         post_samples (a array of points from the posterior)\n",
        "    '''\n",
        "    #Samples points from a beta distribution \n",
        "    #(the posterior of a binomial likelihood and a beta prior is a beta distribution!)\n",
        "    post_samples = np.random.beta(a + likes, b + ratings - likes, n_samples)\n",
        "    return post_samples\n",
        "\n",
        "\n",
        "def find_mode(values, num_bins):\n",
        "    '''--------  find_mode\n",
        "    A function that approximates the mode of a distribution given a sample from the distribution\n",
        "    Input: \n",
        "         values (samples from the distribution)\n",
        "         num_bins (number of bins to use in approximating histogram)\n",
        "    Returns: \n",
        "         mode (the approximate mode of the distribution)\n",
        "    '''\n",
        "    \n",
        "    #Make an approximation (histogram) of the distribution using the samples\n",
        "    bins, edges = np.histogram(values, bins=num_bins)\n",
        "    #Find the bin in the histogram with the max height\n",
        "    max_height_index = np.argmax(bins)\n",
        "    #Find the sample corresponding to the bin with the max height (the mode)\n",
        "    mode = (edges[max_height_index] + edges[max_height_index + 1]) / 2.\n",
        "    \n",
        "    return mode"
      ],
      "execution_count": null,
      "outputs": []
    },
    {
      "cell_type": "markdown",
      "metadata": {
        "id": "N_oMLFJK2pNz",
        "colab_type": "text"
      },
      "source": [
        "# Application: building a ranking system of movies based on ratings\n",
        "\n",
        "The objective is to build a ranking system to recommend movies using ratings from users.\n",
        "\n",
        "One way of recommending movies is to give a list of movies that are generally agreed upon to be good. But how do we measure the \"goodness\" or \"likability\" of a movie?"
      ]
    },
    {
      "cell_type": "markdown",
      "metadata": {
        "id": "YJkeCDq42pN1",
        "colab_type": "text"
      },
      "source": [
        "### Read the data and explore\n",
        "\n",
        "The dataset for this problem is contained in `ratings_df` (below). This dataset contains ratings from 100 users for 1000 movies. The first two columns contain the user and movie IDs. The last column contains a 1 if the user liked the movie, and 0 otherwise. Not every movie is rated by every user (i.e. some movies have more ratings than others).\n",
        "\n",
        "The names of the movies corresponding to the IDs are provided in `names.df` (below).\n",
        "\n",
        "Let's first read in the data in the csv file and get acquainted with our data."
      ]
    },
    {
      "cell_type": "code",
      "metadata": {
        "id": "uRYetwF52pN3",
        "colab_type": "code",
        "colab": {
          "base_uri": "https://localhost:8080/",
          "height": 204
        },
        "outputId": "ef236c9f-40d5-42ea-bf23-6fa695706c80"
      },
      "source": [
        "# read in the movie ratings data from a csv file\n",
        "ratings_df = pd.read_csv('https://raw.githubusercontent.com/onefishy/am207/master/Labs/datasets/ratings.txt', delimiter=',')\n",
        "# print out the first 5 rows of the dataframe\n",
        "ratings_df.head()"
      ],
      "execution_count": null,
      "outputs": [
        {
          "output_type": "execute_result",
          "data": {
            "text/html": [
              "<div>\n",
              "<style scoped>\n",
              "    .dataframe tbody tr th:only-of-type {\n",
              "        vertical-align: middle;\n",
              "    }\n",
              "\n",
              "    .dataframe tbody tr th {\n",
              "        vertical-align: top;\n",
              "    }\n",
              "\n",
              "    .dataframe thead th {\n",
              "        text-align: right;\n",
              "    }\n",
              "</style>\n",
              "<table border=\"1\" class=\"dataframe\">\n",
              "  <thead>\n",
              "    <tr style=\"text-align: right;\">\n",
              "      <th></th>\n",
              "      <th>user_id</th>\n",
              "      <th>movie_id</th>\n",
              "      <th>rating</th>\n",
              "    </tr>\n",
              "  </thead>\n",
              "  <tbody>\n",
              "    <tr>\n",
              "      <th>0</th>\n",
              "      <td>22.0</td>\n",
              "      <td>377.0</td>\n",
              "      <td>0.0</td>\n",
              "    </tr>\n",
              "    <tr>\n",
              "      <th>1</th>\n",
              "      <td>62.0</td>\n",
              "      <td>257.0</td>\n",
              "      <td>0.0</td>\n",
              "    </tr>\n",
              "    <tr>\n",
              "      <th>2</th>\n",
              "      <td>95.0</td>\n",
              "      <td>546.0</td>\n",
              "      <td>0.0</td>\n",
              "    </tr>\n",
              "    <tr>\n",
              "      <th>3</th>\n",
              "      <td>38.0</td>\n",
              "      <td>95.0</td>\n",
              "      <td>1.0</td>\n",
              "    </tr>\n",
              "    <tr>\n",
              "      <th>4</th>\n",
              "      <td>63.0</td>\n",
              "      <td>277.0</td>\n",
              "      <td>1.0</td>\n",
              "    </tr>\n",
              "  </tbody>\n",
              "</table>\n",
              "</div>"
            ],
            "text/plain": [
              "   user_id  movie_id  rating\n",
              "0     22.0     377.0     0.0\n",
              "1     62.0     257.0     0.0\n",
              "2     95.0     546.0     0.0\n",
              "3     38.0      95.0     1.0\n",
              "4     63.0     277.0     1.0"
            ]
          },
          "metadata": {
            "tags": []
          },
          "execution_count": 15
        }
      ]
    },
    {
      "cell_type": "code",
      "metadata": {
        "scrolled": true,
        "id": "Kb_E4m5V2pN9",
        "colab_type": "code",
        "colab": {
          "base_uri": "https://localhost:8080/",
          "height": 204
        },
        "outputId": "15162336-8ea1-475c-acf8-5c1d580e889f"
      },
      "source": [
        "# read in the movie names form a csv file\n",
        "names_df = pd.read_csv('https://raw.githubusercontent.com/onefishy/am207/master/Labs/datasets/movie_names.txt')\n",
        "# print out the first 5 rows of the dataframe\n",
        "names_df.head()"
      ],
      "execution_count": null,
      "outputs": [
        {
          "output_type": "execute_result",
          "data": {
            "text/html": [
              "<div>\n",
              "<style scoped>\n",
              "    .dataframe tbody tr th:only-of-type {\n",
              "        vertical-align: middle;\n",
              "    }\n",
              "\n",
              "    .dataframe tbody tr th {\n",
              "        vertical-align: top;\n",
              "    }\n",
              "\n",
              "    .dataframe thead th {\n",
              "        text-align: right;\n",
              "    }\n",
              "</style>\n",
              "<table border=\"1\" class=\"dataframe\">\n",
              "  <thead>\n",
              "    <tr style=\"text-align: right;\">\n",
              "      <th></th>\n",
              "      <th>movie_id</th>\n",
              "      <th>movie_name</th>\n",
              "    </tr>\n",
              "  </thead>\n",
              "  <tbody>\n",
              "    <tr>\n",
              "      <th>0</th>\n",
              "      <td>1</td>\n",
              "      <td>Toy Story (1995)</td>\n",
              "    </tr>\n",
              "    <tr>\n",
              "      <th>1</th>\n",
              "      <td>2</td>\n",
              "      <td>GoldenEye (1995)</td>\n",
              "    </tr>\n",
              "    <tr>\n",
              "      <th>2</th>\n",
              "      <td>3</td>\n",
              "      <td>Four Rooms (1995)</td>\n",
              "    </tr>\n",
              "    <tr>\n",
              "      <th>3</th>\n",
              "      <td>4</td>\n",
              "      <td>Get Shorty (1995)</td>\n",
              "    </tr>\n",
              "    <tr>\n",
              "      <th>4</th>\n",
              "      <td>5</td>\n",
              "      <td>Copycat (1995)</td>\n",
              "    </tr>\n",
              "  </tbody>\n",
              "</table>\n",
              "</div>"
            ],
            "text/plain": [
              "   movie_id         movie_name\n",
              "0         1   Toy Story (1995)\n",
              "1         2   GoldenEye (1995)\n",
              "2         3  Four Rooms (1995)\n",
              "3         4  Get Shorty (1995)\n",
              "4         5     Copycat (1995)"
            ]
          },
          "metadata": {
            "tags": []
          },
          "execution_count": 16
        }
      ]
    },
    {
      "cell_type": "markdown",
      "metadata": {
        "id": "M_vCh_Nw2pOC",
        "colab_type": "text"
      },
      "source": [
        "### Rank movies based on number of positive ratings (\"likes\")\n",
        "\n",
        "Let's compare the number of total ratings and \"likes\" for a couple of movies.\n",
        "\n",
        "**Exercise 1:** Examine the number of total ratings and \"likes\" for the following movies:\n",
        "* `Batman Forever (1995)`\n",
        "* `Unhook the Stars (1996)`\n",
        "* `Shawshank Redemption, The (1994)`\n",
        "\n",
        "To help you, the following helper function `compute_n_ratings_and_likes` takes a movie name, and returns total number of ratings, and total number of positive ratings (\"likes\").\n",
        "\n",
        "Based on the total number of \"likes\", which of the following movies would you recommend? Is this a fair ranking system?"
      ]
    },
    {
      "cell_type": "code",
      "metadata": {
        "id": "RRDIckrn2pOD",
        "colab_type": "code",
        "colab": {}
      },
      "source": [
        "# call the following function to extract the information\n",
        "def compute_movie_stats(movie_name=None, movie_name_contains=None):\n",
        "    total_ratings, likes = movie_stats(names_df, ratings_df,\n",
        "        movie_name=movie_name, movie_name_contains=movie_name_contains, verbose=True)\n",
        "    print('total number of ratings:', total_ratings)\n",
        "    print('number of likes:', likes,'\\n')\n",
        "    return total_ratings, likes"
      ],
      "execution_count": null,
      "outputs": []
    },
    {
      "cell_type": "code",
      "metadata": {
        "id": "KobPoO2y2pOI",
        "colab_type": "code",
        "colab": {
          "base_uri": "https://localhost:8080/",
          "height": 221
        },
        "outputId": "ae9a2615-7165-40f8-ee0a-bccf282d5c58"
      },
      "source": [
        "# Example: print the number of ratings and likes for Batman\n",
        "_, _ = compute_movie_stats(movie_name_contains='batman')\n",
        "_, _ = compute_movie_stats(movie_name_contains='unhook')\n",
        "_, _ = compute_movie_stats(movie_name_contains='shawshank')"
      ],
      "execution_count": null,
      "outputs": [
        {
          "output_type": "stream",
          "text": [
            "Batman Forever (1995)\n",
            "total number of ratings: 10.0\n",
            "number of likes: 1.0 \n",
            "\n",
            "Unhook the Stars (1996)\n",
            "total number of ratings: 1.0\n",
            "number of likes: 1.0 \n",
            "\n",
            "Shawshank Redemption, The (1994)\n",
            "total number of ratings: 39.0\n",
            "number of likes: 39.0 \n",
            "\n"
          ],
          "name": "stdout"
        }
      ]
    },
    {
      "cell_type": "markdown",
      "metadata": {
        "id": "SclryxapNbLO",
        "colab_type": "text"
      },
      "source": [
        "**Answer:** We'd recommend Shawshank as it has the highest number of ratings. This is not necessarily a fair system as the movies with the most views, provided it is not awful, will tend to be the top recommendation."
      ]
    },
    {
      "cell_type": "markdown",
      "metadata": {
        "id": "JJgAe5Ly2pOQ",
        "colab_type": "text"
      },
      "source": [
        "### Rank movies based on percentage of likes\n",
        "\n",
        "Now, instead of using the total number of likes, we use the total percentage of likes to rank the movies. Each movie will have a *score* associated:\n",
        "$$ score =\\frac{ n_{likes}}{ n_{ratings}} \\in [0,1]$$\n",
        "Note that this percentage is the the MLE of the probability of a user liking a movie in a binomial model for the data. That is, we model the number of likes $n_{likes}$ as\n",
        "\n",
        "$$\n",
        "n_{likes} \\sim Bin(n_{ratings}, \\theta).\n",
        "$$\n",
        "\n",
        "Thus, $\\theta_{\\mathrm{MLE}} = \\frac{ n_{likes}}{ n_{ratings}}$.\n",
        "\n",
        "**Exercise 2:** Print out the top 25 movies ranked by the like-percentage. Do you feel like this list best represents the most \"popular\" or \"beloved\" movies in the database? Is this a fair ranking system?"
      ]
    },
    {
      "cell_type": "code",
      "metadata": {
        "id": "UDR-NqPN2pOR",
        "colab_type": "code",
        "colab": {
          "base_uri": "https://localhost:8080/",
          "height": 476
        },
        "outputId": "52abdbf7-8822-4674-e9d0-6672a3d9cfb0"
      },
      "source": [
        "# Generate top-list of movies\n",
        "top_25_movies = generate_list_top_movies(names_df, ratings_df, n_movies=25)"
      ],
      "execution_count": null,
      "outputs": [
        {
          "output_type": "stream",
          "text": [
            "Top 25 Movies\n",
            "****************************\n",
            "French Twist (Gazon maudit) (1995) : 1.0 (2.0/2.0)\n",
            "Exotica (1994) : 1.0 (2.0/2.0)\n",
            "Three Colors: Red (1994) : 1.0 (12.0/12.0)\n",
            "Three Colors: White (1994) : 1.0 (8.0/8.0)\n",
            "Shawshank Redemption, The (1994) : 1.0 (39.0/39.0)\n",
            "Brother Minister: The Assassination of Malcolm X (1994) : 1.0 (1.0/1.0)\n",
            "Carlito's Way (1993) : 1.0 (4.0/4.0)\n",
            "Robert A. Heinlein's The Puppet Masters (1994) : 1.0 (2.0/2.0)\n",
            "Horseman on the Roof, The (Hussard sur le toit, Le) (1995) : 1.0 (2.0/2.0)\n",
            "Wallace & Gromit: The Best of Aardman Animation (1996) : 1.0 (6.0/6.0)\n",
            "Maya Lin: A Strong Clear Vision (1994) : 1.0 (1.0/1.0)\n",
            "Unhook the Stars (1996) : 1.0 (1.0/1.0)\n",
            "Wrong Trousers, The (1993) : 1.0 (14.0/14.0)\n",
            "Godfather: Part II, The (1974) : 1.0 (18.0/18.0)\n",
            "Ridicule (1996) : 1.0 (5.0/5.0)\n",
            "Pillow Book, The (1995) : 1.0 (2.0/2.0)\n",
            "When the Cats Away (Chacun cherche son chat) (1996) : 1.0 (3.0/3.0)\n",
            "unknown : 1.0 (2.0/2.0)\n",
            "Once Upon a Time... When We Were Colored (1995) : 1.0 (2.0/2.0)\n",
            "Assignment, The (1997) : 1.0 (1.0/1.0)\n",
            "Wonderland (1997) : 1.0 (2.0/2.0)\n",
            "Incognito (1997) : 1.0 (1.0/1.0)\n",
            "Blues Brothers 2000 (1998) : 1.0 (2.0/2.0)\n",
            "Fear of a Black Hat (1993) : 1.0 (2.0/2.0)\n",
            "To Catch a Thief (1955) : 1.0 (6.0/6.0)\n"
          ],
          "name": "stdout"
        }
      ]
    },
    {
      "cell_type": "markdown",
      "metadata": {
        "id": "7U-Vc_XMN-yc",
        "colab_type": "text"
      },
      "source": [
        "**Answer:** Does not necessarily represen the most popular or beloved movie. For instance, a fringe movie could get a handful of reviews by its most ardent fans, which would make its positive rating percentage unusually high."
      ]
    },
    {
      "cell_type": "markdown",
      "metadata": {
        "id": "Ojlujx-Y2pOY",
        "colab_type": "text"
      },
      "source": [
        "### Exploring the effect of prior beliefs\n",
        "\n",
        "Recall that we can bias our models (if we don't like their results) by building in some prior beliefs about the model parameters. In this case, our model parameter is \"the likability of a movie\". So let's encode some prior beliefs for what we think are reasonable values for \"likability\". To keep things simple, we will restrict ourselves to using beta priors to model our beliefs about \"likability\".\n",
        "\n",
        "We have built for you a few helpful functions: one to help you visualize the pdf for various beta priors, one for approximating the posterior using samples, and one for calculating the mode of a distribution (given by some sampled values)."
      ]
    },
    {
      "cell_type": "markdown",
      "metadata": {
        "id": "e9jIn2lJ2pOZ",
        "colab_type": "text"
      },
      "source": [
        "First, let's explore the shapes of various beta pdfs and let's interpret these shapes as prior beliefs.\n",
        "\n",
        "**Exercise 3:** The following is a set of five differe beta distributions. Describe in words what prior belief about the movie corresponds to each prior. Which beta prior encodes an appropriate belief about likability? Why?"
      ]
    },
    {
      "cell_type": "code",
      "metadata": {
        "id": "NOcZpnId2pOa",
        "colab_type": "code",
        "colab": {
          "base_uri": "https://localhost:8080/",
          "height": 297
        },
        "outputId": "21590a7a-2952-4a1c-fe5a-5d2d7abfeaa9"
      },
      "source": [
        "# A list of beta distribution shapes to try out \n",
        "# (feel free to change the parameters of the beta distribution to explore their effects)\n",
        "beta_shapes = [(1, 1), (0.5, 0.5), (2, 2), (4, 2), (2, 4)]\n",
        "\n",
        "# Length of the list of shapes\n",
        "n = len(beta_shapes)\n",
        "\n",
        "# Plot all the beta pdfs in a row\n",
        "fig, ax = plt.subplots(1, n, figsize=(20, 4))\n",
        "\n",
        "# Start the index of the current subplot at 0\n",
        "ax_ind = 0\n",
        "\n",
        "# Iterate through all the shapes\n",
        "for a, b in beta_shapes:\n",
        "    # Plot the beta pdf for a particular shape\n",
        "    plot_beta_prior(a, b, 'blue', ax[ax_ind])\n",
        "\n",
        "    # Increment the subplot index\n",
        "    ax_ind += 1\n",
        "    \n",
        "plt.tight_layout()    \n",
        "plt.show() "
      ],
      "execution_count": null,
      "outputs": [
        {
          "output_type": "display_data",
          "data": {
            "image/png": "[encoded data removed]",
            "text/plain": [
              "<Figure size 1440x288 with 5 Axes>"
            ]
          },
          "metadata": {
            "tags": [],
            "needs_background": "light"
          }
        }
      ]
    },
    {
      "cell_type": "markdown",
      "metadata": {
        "id": "4pVy5JkjOOUr",
        "colab_type": "text"
      },
      "source": [
        "**Answer**:\n",
        "1. No prior belief about the likability; all percentages of positive reviews are equally likely.\n",
        "2. Either not likeable or very likeable, no middle ground.\n",
        "3. Expect overall likeability to be in the middle ground, i.e. all viewers are only adequately satisfied.\n",
        "4. Such a prior would represent a positive selection bias in the pool of reviewers. We believe that people who provide ratings are likely to like to provide positive ratings or the reviewers are generally happy with the films they review\n",
        "5. Such a prior would represent a negative selection bias in the pool of reviewers, We believe that people providing ratings are likely harsh critics and are more likely to not give films a positive rating.\n",
        "\n",
        "The latter three seem most reasonable."
      ]
    },
    {
      "cell_type": "markdown",
      "metadata": {
        "id": "R1Aqz6AM2pOf",
        "colab_type": "text"
      },
      "source": [
        "\n",
        "Let's then look at the effect of the priors on the posterior of likability for a specific movie.\n",
        "\n",
        "**Exercise 4:** For a couple of movies, print out the posterior of the Beta-Binomial model for each of five priors in Exercise 3. \n",
        "\n",
        "Describe what belief about the movie corresponds to each posterior.\n",
        "\n",
        "Describe the effect of the prior on the posterior distribution. \n",
        "\n",
        "Compare the posteriors for a couple of movies (e.g. \"Shawshank Redemption\", \"French Twist\"), explain why the posteriors for these movies look different when the same priors are used. Relate your answers to the concepts from lecture."
      ]
    },
    {
      "cell_type": "code",
      "metadata": {
        "id": "clTqR1aE2pOg",
        "colab_type": "code",
        "colab": {
          "base_uri": "https://localhost:8080/",
          "height": 34
        },
        "outputId": "0d5bfee9-575d-4f1f-ba62-002938f84bb2"
      },
      "source": [
        "i = 3\n",
        "\n",
        "# Example: Get the name of the first movie in the previous top-25 list\n",
        "movie_name = top_25_movies[i][0]\n",
        "\n",
        "# Get the ratings info for the first movie in the top 25 list\n",
        "likes = top_25_movies[i][1]\n",
        "total_ratings = top_25_movies[i][2]\n",
        "likability = top_25_movies[i][3]\n",
        "\n",
        "# Print movie info\n",
        "print('{}: {} ({}/{})'.format(movie_name, likability, likes, total_ratings))"
      ],
      "execution_count": null,
      "outputs": [
        {
          "output_type": "stream",
          "text": [
            "Three Colors: White (1994): 1.0 (8.0/8.0)\n"
          ],
          "name": "stdout"
        }
      ]
    },
    {
      "cell_type": "code",
      "metadata": {
        "id": "KZ8ISP6h2pOl",
        "colab_type": "code",
        "colab": {
          "base_uri": "https://localhost:8080/",
          "height": 297
        },
        "outputId": "6424b463-396a-46e0-e01d-21c9117a9310"
      },
      "source": [
        "# Number of samples to use when approximating our posterior\n",
        "n_samples = 10000\n",
        "n = 5\n",
        "\n",
        "# Plot the posterior corresponding to each prior\n",
        "fig, ax = plt.subplots(1, n, figsize=(20, 4))\n",
        "\n",
        "# Start the index of the current subplot at 0\n",
        "ax_ind = 0\n",
        "\n",
        "# Iterate through all the shapes\n",
        "for a, b in beta_shapes:   \n",
        "    # Draw samples from the posterior corresponding to a particular beta prior\n",
        "    post_samples = sample_posterior(a, b, likes, total_ratings, n_samples)\n",
        "\n",
        "    # Approximate the posterior with a histogram of these samples\n",
        "    ax[ax_ind].hist(post_samples, bins=30, color='red', alpha=0.5, density = True)\n",
        "\n",
        "    # Find the approximate mode of the posterior\n",
        "    mode = find_mode(post_samples, 30)\n",
        "\n",
        "    # Plot the mode as a vertical line\n",
        "    ax[ax_ind].axvline(x=mode, linewidth=3, label='Posterior mode')\n",
        "    \n",
        "    # Set title, legends etc\n",
        "    ax[ax_ind].set_title('Posterior, with Beta prior (a={}, b={})'.format(a, b))\n",
        "    ax[ax_ind].legend(loc='best')\n",
        "\n",
        "    # Increment the subplot index\n",
        "    ax_ind += 1\n",
        "\n",
        "plt.tight_layout()\n",
        "plt.show() "
      ],
      "execution_count": null,
      "outputs": [
        {
          "output_type": "display_data",
          "data": {
            "image/png": "[encoded data removed]",
            "text/plain": [
              "<Figure size 1440x288 with 5 Axes>"
            ]
          },
          "metadata": {
            "tags": [],
            "needs_background": "light"
          }
        }
      ]
    },
    {
      "cell_type": "code",
      "metadata": {
        "id": "ahkfAHzXSXvV",
        "colab_type": "code",
        "colab": {
          "base_uri": "https://localhost:8080/",
          "height": 34
        },
        "outputId": "8aca4d5e-f273-4ecb-96e1-c702f96e8353"
      },
      "source": [
        "i = 0\n",
        "\n",
        "# Example: Get the name of the first movie in the previous top-25 list\n",
        "movie_name = top_25_movies[i][0]\n",
        "\n",
        "# Get the ratings info for the first movie in the top 25 list\n",
        "likes = top_25_movies[i][1]\n",
        "total_ratings = top_25_movies[i][2]\n",
        "likability = top_25_movies[i][3]\n",
        "\n",
        "# Print movie info\n",
        "print('{}: {} ({}/{})'.format(movie_name, likability, likes, total_ratings))"
      ],
      "execution_count": null,
      "outputs": [
        {
          "output_type": "stream",
          "text": [
            "French Twist (Gazon maudit) (1995): 1.0 (2.0/2.0)\n"
          ],
          "name": "stdout"
        }
      ]
    },
    {
      "cell_type": "code",
      "metadata": {
        "id": "LIwMV95cSYGH",
        "colab_type": "code",
        "colab": {
          "base_uri": "https://localhost:8080/",
          "height": 297
        },
        "outputId": "82721234-d844-46d0-e195-a4353ed3ccaf"
      },
      "source": [
        "# Number of samples to use when approximating our posterior\n",
        "n_samples = 10000\n",
        "n = 5\n",
        "\n",
        "# Plot the posterior corresponding to each prior\n",
        "fig, ax = plt.subplots(1, n, figsize=(20, 4))\n",
        "\n",
        "# Start the index of the current subplot at 0\n",
        "ax_ind = 0\n",
        "\n",
        "# Iterate through all the shapes\n",
        "for a, b in beta_shapes:   \n",
        "    # Draw samples from the posterior corresponding to a particular beta prior\n",
        "    post_samples = sample_posterior(a, b, likes, total_ratings, n_samples)\n",
        "\n",
        "    # Approximate the posterior with a histogram of these samples\n",
        "    ax[ax_ind].hist(post_samples, bins=30, color='red', alpha=0.5, density = True)\n",
        "\n",
        "    # Find the approximate mode of the posterior\n",
        "    mode = find_mode(post_samples, 30)\n",
        "\n",
        "    # Plot the mode as a vertical line\n",
        "    ax[ax_ind].axvline(x=mode, linewidth=3, label='Posterior mode')\n",
        "    \n",
        "    # Set title, legends etc\n",
        "    ax[ax_ind].set_title('Posterior, with Beta prior (a={}, b={})'.format(a, b))\n",
        "    ax[ax_ind].legend(loc='best')\n",
        "\n",
        "    # Increment the subplot index\n",
        "    ax_ind += 1\n",
        "\n",
        "plt.tight_layout()\n",
        "plt.show() "
      ],
      "execution_count": null,
      "outputs": [
        {
          "output_type": "display_data",
          "data": {
            "image/png": "[encoded data removed]",
            "text/plain": [
              "<Figure size 1440x288 with 5 Axes>"
            ]
          },
          "metadata": {
            "tags": [],
            "needs_background": "light"
          }
        }
      ]
    },
    {
      "cell_type": "code",
      "metadata": {
        "id": "_5xikwZ5Sti7",
        "colab_type": "code",
        "colab": {
          "base_uri": "https://localhost:8080/",
          "height": 34
        },
        "outputId": "e489c00c-12b1-46df-8ca1-0ce9f02fc201"
      },
      "source": [
        "i = 4\n",
        "\n",
        "# Example: Get the name of the first movie in the previous top-25 list\n",
        "movie_name = top_25_movies[i][0]\n",
        "\n",
        "# Get the ratings info for the first movie in the top 25 list\n",
        "likes = top_25_movies[i][1]\n",
        "total_ratings = top_25_movies[i][2]\n",
        "likability = top_25_movies[i][3]\n",
        "\n",
        "# Print movie info\n",
        "print('{}: {} ({}/{})'.format(movie_name, likability, likes, total_ratings))"
      ],
      "execution_count": null,
      "outputs": [
        {
          "output_type": "stream",
          "text": [
            "Shawshank Redemption, The (1994): 1.0 (39.0/39.0)\n"
          ],
          "name": "stdout"
        }
      ]
    },
    {
      "cell_type": "code",
      "metadata": {
        "id": "W1QJcuHyStLy",
        "colab_type": "code",
        "colab": {
          "base_uri": "https://localhost:8080/",
          "height": 297
        },
        "outputId": "7881a110-ba33-488d-97ee-b94349df219d"
      },
      "source": [
        "# Number of samples to use when approximating our posterior\n",
        "n_samples = 10000\n",
        "n = 5\n",
        "\n",
        "# Plot the posterior corresponding to each prior\n",
        "fig, ax = plt.subplots(1, n, figsize=(20, 4))\n",
        "\n",
        "# Start the index of the current subplot at 0\n",
        "ax_ind = 0\n",
        "\n",
        "# Iterate through all the shapes\n",
        "for a, b in beta_shapes:   \n",
        "    # Draw samples from the posterior corresponding to a particular beta prior\n",
        "    post_samples = sample_posterior(a, b, likes, total_ratings, n_samples)\n",
        "\n",
        "    # Approximate the posterior with a histogram of these samples\n",
        "    ax[ax_ind].hist(post_samples, bins=30, color='red', alpha=0.5)\n",
        "\n",
        "    # Find the approximate mode of the posterior\n",
        "    mode = find_mode(post_samples, 30)\n",
        "\n",
        "    # Plot the mode as a vertical line\n",
        "    ax[ax_ind].axvline(x=mode, linewidth=3, label='Posterior mode')\n",
        "    \n",
        "    # Set title, legends etc\n",
        "    ax[ax_ind].set_title('Posterior, with Beta prior (a={}, b={})'.format(a, b))\n",
        "    ax[ax_ind].legend(loc='best')\n",
        "\n",
        "    # Increment the subplot index\n",
        "    ax_ind += 1\n",
        "\n",
        "plt.tight_layout()\n",
        "plt.show() "
      ],
      "execution_count": null,
      "outputs": [
        {
          "output_type": "display_data",
          "data": {
            "image/png": "[encoded data removed]",
            "text/plain": [
              "<Figure size 1440x288 with 5 Axes>"
            ]
          },
          "metadata": {
            "tags": [],
            "needs_background": "light"
          }
        }
      ]
    },
    {
      "cell_type": "markdown",
      "metadata": {
        "id": "oxgyctWoRNbo",
        "colab_type": "text"
      },
      "source": [
        "*Describe what belief about the movie corresponds to each posterior.*\n",
        "\n",
        "**Answer:**  \n",
        "1. Mode prediction is $~1.0$, so despite the uninformative prior the posterior is that likeability is almost at max.\n",
        "2. Same. The prior was highly binary, so compared to a naive prior we believe even more strongly in universal likability.\n",
        "3. Strongly believing in mediocre likability reduces the mode posterior, having skewed it more to the right due to our relatively strong prior belief.\n",
        "4. Practically the same as 3.\n",
        "5. The prior is still having an effect by assuming generally low likability, which skews the posterior somewhat to the right.\n",
        "\n",
        "*Describe the effect of the prior on the posterior distribution.*\n",
        "\n",
        "The distributons express how strong our beliefs are. Stronger priors influence the distribution of the posterior, particularly when the prior is \"confirmed\" by the data, such as having a strong belief of universally low or high likability (binary, one or the other) making the posterior for Shawshank essentially completely focused around high likability.\n",
        "\n",
        "*Compare the posteriors for a couple of movies (e.g. \"Shawshank Redemption\", \"French Twist\"), explain why the posteriors for these movies look different when the same priors are used. Relate your answers to the concepts from lecture.*\n",
        "\n",
        "In our comparison of the posterior between different movies, we see that the posterior for French Twist, which has only 2 ratings, is very prior-dominated as the mode shifts from 0.4 to 1.0. In the case of the Shawshank Redemption, the mode is always greater than 0.95, irrespective of the choice of prior.\n"
      ]
    },
    {
      "cell_type": "markdown",
      "metadata": {
        "id": "KmbEnwDk2pOq",
        "colab_type": "text"
      },
      "source": [
        "### Implement a ranking system that takes prior beliefs into account\n",
        "\n",
        "Let's **choose** a reasonable beta prior and build a list of top 25 movies that you would recommend to a new user based on the **posterior mode**.\n",
        "\n",
        "**Exercise 6:**\n",
        "In what important ways is our top 25 list using the posterior mode different from our top 25 list using the like-percent?\n",
        "\n",
        "Describe the possible benefits of using the posterior mode to rank movies instead of the like-percentage. \n",
        "\n",
        "Describe the possible draw-backs of using the posterior mode to rank movies. "
      ]
    },
    {
      "cell_type": "code",
      "metadata": {
        "id": "02znKQf92pOs",
        "colab_type": "code",
        "colab": {
          "base_uri": "https://localhost:8080/",
          "height": 476
        },
        "outputId": "79ede20c-e975-4f87-e978-122295f8849f"
      },
      "source": [
        "# Step 1: Choose a beta prior that encodes a reasonable belief about likability \n",
        "a = 2 \n",
        "b = 2\n",
        "\n",
        "# Step 2: Make a list of movie names and their ratings info\n",
        "likability = []\n",
        "\n",
        "# Step 3: Iterate through all the movie names\n",
        "for name in names_df['movie_name'].values:\n",
        "    # Step 3a: Get ratings info for movie\n",
        "    total_ratings, likes = movie_stats(names_df, ratings_df, movie_name=name)\n",
        "\n",
        "    # Step 3b: Approximate the posterior given the ratings info and the prior\n",
        "    post_samples = sample_posterior(a, b, likes, total_ratings, n_samples)\n",
        "\n",
        "    # Step 3c: Approximate posterior mode\n",
        "    mode = find_mode(post_samples, 30)\n",
        "\n",
        "    # Step 3d: Add movie info to our list\n",
        "    likability.append((name, likes, total_ratings, mode))\n",
        "\n",
        "# Step 4: Sort our list of movie info by like-percentage, in descending order\n",
        "sorted_likability = sorted(likability, key=lambda t: t[3], reverse=True)  \n",
        "\n",
        "# Step 5: Get the movies with top 25 like-percentage\n",
        "top_25_movies = sorted_likability[:25]\n",
        "\n",
        "# Step 6: Print results of ranking\n",
        "print('Top 25 Movies')\n",
        "print('****************************')\n",
        "for movie, likes, total_ratings, likable in top_25_movies:\n",
        "    print(movie, ':', likable, '({}/{})'.format(likes, total_ratings))"
      ],
      "execution_count": null,
      "outputs": [
        {
          "output_type": "stream",
          "text": [
            "Top 25 Movies\n",
            "****************************\n",
            "Shawshank Redemption, The (1994) : 0.9777988970371516 (39.0/39.0)\n",
            "Cool Hand Luke (1967) : 0.9525181366552535 (20.0/20.0)\n",
            "Godfather: Part II, The (1974) : 0.9459120852911916 (18.0/18.0)\n",
            "Glory (1989) : 0.9453069161635654 (17.0/17.0)\n",
            "Raiders of the Lost Ark (1981) : 0.9387219008474446 (47.0/49.0)\n",
            "Three Colors: Red (1994) : 0.9354335375884073 (12.0/12.0)\n",
            "Killing Fields, The (1984) : 0.9346811505491587 (14.0/14.0)\n",
            "Manchurian Candidate, The (1962) : 0.9324294995549689 (17.0/17.0)\n",
            "Thin Man, The (1934) : 0.9242073018504269 (8.0/8.0)\n",
            "Local Hero (1983) : 0.9237056410109945 (10.0/10.0)\n",
            "Vertigo (1958) : 0.9214903049648107 (22.0/23.0)\n",
            "High Noon (1952) : 0.9212004335866694 (11.0/11.0)\n",
            "Wrong Trousers, The (1993) : 0.9180192845403112 (14.0/14.0)\n",
            "Casablanca (1942) : 0.9102207510516964 (22.0/23.0)\n",
            "Magnificent Seven, The (1954) : 0.9097694648351982 (14.0/15.0)\n",
            "Dead Man Walking (1995) : 0.9042310013535506 (33.0/36.0)\n",
            "Usual Suspects, The (1995) : 0.903723657901251 (27.0/29.0)\n",
            "Third Man, The (1949) : 0.9020221107492054 (9.0/9.0)\n",
            "Henry V (1989) : 0.8949225314499709 (16.0/17.0)\n",
            "39 Steps, The (1935) : 0.8941224343820302 (7.0/7.0)\n",
            "Alien (1979) : 0.8940772190226831 (28.0/30.0)\n",
            "Close Shave, A (1995) : 0.8939436016531463 (16.0/17.0)\n",
            "Lawrence of Arabia (1962) : 0.8902628323550213 (19.0/21.0)\n",
            "Hoop Dreams (1994) : 0.8877765122486599 (14.0/15.0)\n",
            "Dr. Strangelove or: How I Learned to Stop Worrying and Love the Bomb (1963) : 0.8870639303046968 (22.0/24.0)\n"
          ],
          "name": "stdout"
        }
      ]
    },
    {
      "cell_type": "markdown",
      "metadata": {
        "id": "4yTNbsEd2pOz",
        "colab_type": "text"
      },
      "source": [
        "---"
      ]
    },
    {
      "cell_type": "markdown",
      "metadata": {
        "id": "JQ_esXHuVOdV",
        "colab_type": "text"
      },
      "source": [
        "**Answer:**\n",
        "\n",
        "*In what important ways is our top 25 list using the posterior mode different from our top 25 list using the like-percent?*\n",
        "\n",
        "It does not overwhelm the Top 25 list with niche movies with few reviews. At the same time, for movies with fewer ratings it's therefore also harder to override the strong prior of some unlikability, so it will take a while for new or less popular movies to enter into the Top 25 list.\n",
        "\n",
        "*Describe the possible benefits of using the posterior mode to rank movies instead of the like-percentage.*\n",
        "\n",
        "The posterior mode is an attempt at balancing the proportion of positive reviews against the number of reviews. Consequently, the Top 25 list is more stable over time, rather than quickly changing if a new popular movie comes out. I.e. less sensitive to outliers.\n",
        "\n",
        "*Describe the possible draw-backs of using the posterior mode to rank movies.*\n",
        "\n",
        "While we have chosen a convenient conjugate prior, sometimes the posterior is not in a closed form. Furthermore, posterior mode does not account for any potential biases in our data: so depending on the database or user demographics, the movie ratings may reflect only a subset of the population and the posterior mode has no way to account for these biases. Further, it is extremely sensitive to data with high frequency, but this does not account for potential viral backlash to a film (i.e., the recent Star Wars) where automated bots could tank the score of a film. As such, the quality of the posterior is highly dependent on the quality of the data. "
      ]
    }
  ]
}